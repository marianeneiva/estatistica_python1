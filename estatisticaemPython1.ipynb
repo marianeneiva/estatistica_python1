{
  "nbformat": 4,
  "nbformat_minor": 0,
  "metadata": {
    "colab": {
      "name": "estatisticaemPython1.ipynb",
      "provenance": [],
      "authorship_tag": "ABX9TyNlCU3S/t2LGsndbE1znlqM",
      "include_colab_link": true
    },
    "kernelspec": {
      "name": "python3",
      "display_name": "Python 3"
    }
  },
  "cells": [
    {
      "cell_type": "markdown",
      "metadata": {
        "id": "view-in-github",
        "colab_type": "text"
      },
      "source": [
        "<a href=\"https://colab.research.google.com/github/marianeneiva/estatistica_python1/blob/main/estatisticaemPython1.ipynb\" target=\"_parent\"><img src=\"https://colab.research.google.com/assets/colab-badge.svg\" alt=\"Open In Colab\"/></a>"
      ]
    },
    {
      "cell_type": "code",
      "metadata": {
        "id": "bWXNvpbVCcYu",
        "outputId": "169e52ea-c371-4214-ed22-ce39caf0ac42",
        "colab": {
          "base_uri": "https://localhost:8080/"
        }
      },
      "source": [
        "#MEDIA\n",
        "\n",
        "#vamos usar então temos que importar primeiro\n",
        "#apelidamos o pandas de pd\n",
        "import pandas as pd\n",
        "\n",
        "#criando a serie de numeros para usar posteriormente\n",
        "serie = pd.Series([1,5,10,30,50,30,15,40,45]) \n",
        "\n",
        "#como serie é um pd.Series (linha anterior), \n",
        "#ele pode chamar uma funcao 'mean' que calcula a media dos valores que estao em 'serie'\n",
        "media = serie.mean() \n",
        "\n",
        "#imprime o valor que esta contido em media\n",
        "print(media) "
      ],
      "execution_count": 9,
      "outputs": [
        {
          "output_type": "stream",
          "text": [
            "25.11111111111111\n"
          ],
          "name": "stdout"
        }
      ]
    },
    {
      "cell_type": "code",
      "metadata": {
        "id": "v7PQLp5MEhGc",
        "outputId": "f2967f01-2ffe-48c0-ba01-3bdb0dd27714",
        "colab": {
          "base_uri": "https://localhost:8080/"
        }
      },
      "source": [
        "#MEDIANA\n",
        "\n",
        "#vamos usar então temos que importar primeiro\n",
        "#apelidamos o pandas de pd\n",
        "import pandas as pd\n",
        "\n",
        "#criando a serie de numeros para usar posteriormente\n",
        "serie = pd.Series([1,5,10,30,50,30,15,40,45]) \n",
        "\n",
        "#como serie é um pd.Series (linha anterior), \n",
        "#ele pode chamar uma funcao 'median' que calcula a mediana dos valores que estao em 'serie'\n",
        "mediana = serie.median() \n",
        "\n",
        "#imprime o valor que esta contido em media\n",
        "print(mediana) "
      ],
      "execution_count": 8,
      "outputs": [
        {
          "output_type": "stream",
          "text": [
            "30.0\n"
          ],
          "name": "stdout"
        }
      ]
    },
    {
      "cell_type": "code",
      "metadata": {
        "id": "ORpoSDKSGIda",
        "outputId": "8a46e965-554c-43a0-eb45-c195ab31e044",
        "colab": {
          "base_uri": "https://localhost:8080/"
        }
      },
      "source": [
        "#MODA\n",
        "\n",
        "#vamos usar então temos que importar primeiro\n",
        "#apelidamos o pandas de pd\n",
        "import pandas as pd\n",
        "\n",
        "#criando a serie de numeros para usar posteriormente\n",
        "serie = pd.Series([1,5,10,30,50,30,15,40,45,45]) \n",
        "\n",
        "#como serie é um pd.Series (linha anterior), \n",
        "#ele pode chamar uma funcao 'mode' que calcula a moda a partir valores que estao em 'serie'\n",
        "moda = serie.mode() \n",
        "\n",
        "#imprime um vetor com todos os valores que aparecem em maior frequência\n",
        "print(moda) "
      ],
      "execution_count": 11,
      "outputs": [
        {
          "output_type": "stream",
          "text": [
            "0    30\n",
            "1    45\n",
            "dtype: int64\n"
          ],
          "name": "stdout"
        }
      ]
    },
    {
      "cell_type": "code",
      "metadata": {
        "id": "4UgbPSCwIY7k",
        "outputId": "fb560796-1d64-4fc4-d8b4-2e8a2720d27d",
        "colab": {
          "base_uri": "https://localhost:8080/"
        }
      },
      "source": [
        "#MAXIMO E MINIMO\n",
        "\n",
        "#vamos usar então temos que importar primeiro\n",
        "#apelidamos o pandas de pd\n",
        "import pandas as pd\n",
        "\n",
        "#criando a serie de numeros para usar posteriormente\n",
        "serie = pd.Series([1,5,10,30,50,30,15,40,45,45]) \n",
        "\n",
        "#como serie é um pd.Series (linha anterior), \n",
        "#ele pode chamar uma funcao 'max' para calcular o maximo\n",
        "# e 'min' para calcular o valor minimo dentro da serie\n",
        "\n",
        "maximo = serie.max() \n",
        "minimo = serie.min()\n",
        "\n",
        "#imprime o maximo e o minimo\n",
        "print(maximo)\n",
        "print(minimo)\n"
      ],
      "execution_count": 13,
      "outputs": [
        {
          "output_type": "stream",
          "text": [
            "50\n",
            "1\n"
          ],
          "name": "stdout"
        }
      ]
    }
  ]
}