{
  "nbformat": 4,
  "nbformat_minor": 0,
  "metadata": {
    "colab": {
      "name": "estatisticaemPython1.ipynb",
      "provenance": [],
      "collapsed_sections": [],
      "authorship_tag": "ABX9TyPER08Jq0gI/HrmyUZBn/uO",
      "include_colab_link": true
    },
    "kernelspec": {
      "name": "python3",
      "display_name": "Python 3"
    }
  },
  "cells": [
    {
      "cell_type": "markdown",
      "metadata": {
        "id": "view-in-github",
        "colab_type": "text"
      },
      "source": [
        "<a href=\"https://colab.research.google.com/github/marianeneiva/statistics_python1/blob/main/estatisticaemPython1.ipynb\" target=\"_parent\"><img src=\"https://colab.research.google.com/assets/colab-badge.svg\" alt=\"Open In Colab\"/></a>"
      ]
    },
    {
      "cell_type": "markdown",
      "metadata": {
        "id": "Ta5GCkE9IXVV"
      },
      "source": [
        "# Statistics in python\n",
        "\n",
        "statistics are very important in data science. The examples shows some of the main functions to be used in data exploration stepin data mining.\n",
        "\n",
        "ps.: several imports are repeated for the sake of clarity for each class of statistic.\n"
      ]
    },
    {
      "cell_type": "markdown",
      "metadata": {
        "id": "6nn1t0FyI4vQ"
      },
      "source": [
        "# Mean "
      ]
    },
    {
      "cell_type": "code",
      "metadata": {
        "id": "bWXNvpbVCcYu",
        "colab": {
          "base_uri": "https://localhost:8080/"
        },
        "outputId": "72d41391-b3bf-4836-9e8f-5743ff2a5d37"
      },
      "source": [
        "#if we are going to use it... we have to import it first\n",
        "#we give the nickname pd to library pandas\n",
        "import pandas as pd\n",
        "\n",
        "#creating the series of numbers to use later\n",
        "serie = pd.Series([1,5,10,30,50,30,15,40,45]) \n",
        "\n",
        "#as serie is a pd.Series (previous line), \n",
        "#it can call a 'mean' function that averages the values that are in 'serie' variable\n",
        "media = serie.mean() \n",
        "\n",
        "#prints the value that is contained in 'media'\n",
        "print(media) "
      ],
      "execution_count": 2,
      "outputs": [
        {
          "output_type": "stream",
          "text": [
            "25.11111111111111\n"
          ],
          "name": "stdout"
        }
      ]
    },
    {
      "cell_type": "markdown",
      "metadata": {
        "id": "347Z3GC3I-Bl"
      },
      "source": [
        "# Median"
      ]
    },
    {
      "cell_type": "code",
      "metadata": {
        "id": "v7PQLp5MEhGc",
        "colab": {
          "base_uri": "https://localhost:8080/"
        },
        "outputId": "4591c3e3-88fc-4bf1-cefa-b7381fd37741"
      },
      "source": [
        "#MEDIAN\n",
        "\n",
        "#if we are going to use it... we have to import it first\n",
        "#we give the nickname pd to library pandas\n",
        "import pandas as pd\n",
        "\n",
        "#creating the series of numbers to use later\n",
        "serie = pd.Series([1,5,10,30,50,30,15,40,45]) \n",
        "\n",
        "#as serie is a pd.Series (previous line), \n",
        "#it can call a 'mean' function that averages the values that are in 'serie' variable\n",
        "\n",
        "#it can call a 'median' function that calculates the median of the values that are in 'serie' variable\n",
        "mediana = serie.median() \n",
        "\n",
        "#prints the value that is contained in 'mediana'\n",
        "print(mediana) "
      ],
      "execution_count": 3,
      "outputs": [
        {
          "output_type": "stream",
          "text": [
            "30.0\n"
          ],
          "name": "stdout"
        }
      ]
    },
    {
      "cell_type": "markdown",
      "metadata": {
        "id": "8YGtgGokJBjV"
      },
      "source": [
        "# Mode \n"
      ]
    },
    {
      "cell_type": "code",
      "metadata": {
        "id": "ORpoSDKSGIda",
        "colab": {
          "base_uri": "https://localhost:8080/"
        },
        "outputId": "03ca063a-daeb-4ef3-ac1f-4f69f32c8a3c"
      },
      "source": [
        "#MODE\n",
        "\n",
        "#if we are going to use it... we have to import it first\n",
        "#we give the nickname pd to library pandas\n",
        "import pandas as pd\n",
        "\n",
        "#creating the series of numbers to use later\n",
        "serie = pd.Series([1,5,10,30,50,30,15,40,45,45]) \n",
        "\n",
        "#as serie is a pd.Series (previous line), \n",
        "#it can call a 'mode' function that calculates the mode of the values that are in 'serie' variable\n",
        "moda = serie.mode() \n",
        "\n",
        "#prints the value that is contained in 'mode'\n",
        "print(moda) "
      ],
      "execution_count": 4,
      "outputs": [
        {
          "output_type": "stream",
          "text": [
            "0    30\n",
            "1    45\n",
            "dtype: int64\n"
          ],
          "name": "stdout"
        }
      ]
    },
    {
      "cell_type": "markdown",
      "metadata": {
        "id": "lOOhxypUJF0n"
      },
      "source": [
        "#Maximum and Minimum\n",
        "\n"
      ]
    },
    {
      "cell_type": "code",
      "metadata": {
        "id": "4UgbPSCwIY7k",
        "colab": {
          "base_uri": "https://localhost:8080/"
        },
        "outputId": "ad6e0098-e671-4ae7-ef4a-c2a6eea41551"
      },
      "source": [
        "#MAXIMUM and MINIMUM\n",
        "\n",
        "#if we are going to use it... we have to import it first\n",
        "#we give the nickname pd to library pandas\n",
        "import pandas as pd\n",
        "\n",
        "#creating the series of numbers to use later\n",
        "serie = pd.Series([1,5,10,30,50,30,15,40,45,45]) \n",
        "\n",
        "#as serie is a pd.Series (previous line), \n",
        "#we can call 'max' to compute de maximum and min to compute de minimum of the 'serie' variable\n",
        "maximo = serie.max() \n",
        "minimo = serie.min()\n",
        "\n",
        "#print the maximum and minimum values\n",
        "print(maximo)\n",
        "print(minimo)"
      ],
      "execution_count": 5,
      "outputs": [
        {
          "output_type": "stream",
          "text": [
            "50\n",
            "1\n"
          ],
          "name": "stdout"
        }
      ]
    }
  ]
}